{
 "cells": [
  {
   "cell_type": "code",
   "execution_count": 4,
   "id": "9e7fbb9b-24de-4215-b1ab-e7cdbe955eaa",
   "metadata": {},
   "outputs": [
    {
     "name": "stdout",
     "output_type": "stream",
     "text": [
      "Dataset Loaded. Sample:\n",
      "\n",
      "           Region         Date  Frequency   Estimated Unemployment Rate (%)  \\\n",
      "0  Andhra Pradesh   31-05-2019    Monthly                              3.65   \n",
      "1  Andhra Pradesh   30-06-2019    Monthly                              3.05   \n",
      "2  Andhra Pradesh   31-07-2019    Monthly                              3.75   \n",
      "3  Andhra Pradesh   31-08-2019    Monthly                              3.32   \n",
      "4  Andhra Pradesh   30-09-2019    Monthly                              5.17   \n",
      "\n",
      "    Estimated Employed   Estimated Labour Participation Rate (%)   Area  \n",
      "0           11999139.0                                     43.24  Rural  \n",
      "1           11755881.0                                     42.05  Rural  \n",
      "2           12086707.0                                     43.50  Rural  \n",
      "3           12285693.0                                     43.97  Rural  \n",
      "4           12256762.0                                     44.68  Rural  \n",
      "\n",
      " Dataset Shape: (768, 7)\n",
      " Saved national unemployment trend plot.\n",
      "Saved state-wise heatmap.\n"
     ]
    },
    {
     "name": "stderr",
     "output_type": "stream",
     "text": [
      "C:\\Users\\Tejas\\AppData\\Local\\Temp\\ipykernel_13044\\201890588.py:60: FutureWarning: \n",
      "\n",
      "Passing `palette` without assigning `hue` is deprecated and will be removed in v0.14.0. Assign the `y` variable to `hue` and set `legend=False` for the same effect.\n",
      "\n",
      "  sns.barplot(x='unemployment_rate', y='state', data=latest_df, palette='magma', hue=None, legend=False)\n"
     ]
    },
    {
     "name": "stdout",
     "output_type": "stream",
     "text": [
      "Saved barplot for latest unemployment rates.\n",
      " Saved Urban vs Rural unemployment boxplot.\n"
     ]
    },
    {
     "name": "stderr",
     "output_type": "stream",
     "text": [
      "C:\\Users\\Tejas\\AppData\\Local\\Temp\\ipykernel_13044\\201890588.py:71: FutureWarning: \n",
      "\n",
      "Passing `palette` without assigning `hue` is deprecated and will be removed in v0.14.0. Assign the `x` variable to `hue` and set `legend=False` for the same effect.\n",
      "\n",
      "  sns.boxplot(x='area', y='unemployment_rate', data=df, palette='Set2', hue=None, legend=False)\n"
     ]
    },
    {
     "name": "stdout",
     "output_type": "stream",
     "text": [
      " Saved labour participation rate trend.\n"
     ]
    },
    {
     "name": "stderr",
     "output_type": "stream",
     "text": [
      "C:\\Users\\Tejas\\AppData\\Local\\Temp\\ipykernel_13044\\201890588.py:94: FutureWarning: \n",
      "\n",
      "Passing `palette` without assigning `hue` is deprecated and will be removed in v0.14.0. Assign the `y` variable to `hue` and set `legend=False` for the same effect.\n",
      "\n",
      "  sns.barplot(x='unemployment_rate', y='state', data=top10, palette='Reds', hue=None, legend=False)\n"
     ]
    },
    {
     "name": "stdout",
     "output_type": "stream",
     "text": [
      "Saved Top 10 states barplot.\n",
      "\n",
      "All visualizations saved in: Task-3-Unemployment-Analysis/results/\n"
     ]
    }
   ],
   "source": [
    "import sys\n",
    "import io\n",
    "import pandas as pd\n",
    "import matplotlib.pyplot as plt\n",
    "import seaborn as sns\n",
    "import os\n",
    "\n",
    "# Set plot style\n",
    "sns.set(style=\"whitegrid\")\n",
    "plt.rcParams[\"font.family\"] = \"sans-serif\"  # Avoid emoji warnings\n",
    "\n",
    "# Step 1: Load Dataset\n",
    "df = pd.read_csv(\"Unemployment in India.csv\")\n",
    "print(\"Dataset Loaded. Sample:\\n\")\n",
    "print(df.head())\n",
    "print(f\"\\n Dataset Shape: {df.shape}\")\n",
    "\n",
    "# Step 2: Data Cleaning & Renaming\n",
    "df.columns = [col.strip().replace(\" \", \"_\").lower() for col in df.columns]\n",
    "df = df.rename(columns={\n",
    "    'region': 'state',\n",
    "    'estimated_unemployment_rate_(%)': 'unemployment_rate',\n",
    "    'estimated_employed': 'employed',\n",
    "    'estimated_labour_participation_rate_(%)': 'labour_participation_rate'\n",
    "})\n",
    "df['date'] = pd.to_datetime(df['date'], dayfirst=True)\n",
    "df['state'] = df['state'].str.strip()\n",
    "\n",
    "# Step 3: Create results folder\n",
    "os.makedirs(\"Task-3-Unemployment-Analysis/results\", exist_ok=True)\n",
    "\n",
    "# Step 4: National Unemployment Trend\n",
    "plt.figure(figsize=(12, 6))\n",
    "national_avg = df.groupby('date')['unemployment_rate'].mean()\n",
    "sns.lineplot(x=national_avg.index, y=national_avg.values, color='red')\n",
    "plt.title(\"National Average Unemployment Rate Over Time\")\n",
    "plt.xlabel(\"Date\")\n",
    "plt.ylabel(\"Unemployment Rate (%)\")\n",
    "plt.tight_layout()\n",
    "plt.savefig(\"Task-3-Unemployment-Analysis/results/national_unemployment_trend.png\")\n",
    "plt.close()\n",
    "print(\" Saved national unemployment trend plot.\")\n",
    "\n",
    "# Step 5: Heatmap - Unemployment by State Over Time\n",
    "pivot_table = df.pivot_table(values='unemployment_rate', index='state', columns='date')\n",
    "plt.figure(figsize=(14, 10))\n",
    "sns.heatmap(pivot_table, cmap=\"YlOrRd\", cbar_kws={'label': 'Unemployment Rate (%)'})\n",
    "plt.title(\"State-wise Unemployment Rate Heatmap\")\n",
    "plt.xlabel(\"Date\")\n",
    "plt.ylabel(\"State\")\n",
    "plt.tight_layout()\n",
    "plt.savefig(\"Task-3-Unemployment-Analysis/results/statewise_heatmap.png\")\n",
    "plt.close()\n",
    "print(\"Saved state-wise heatmap.\")\n",
    "\n",
    "# Step 6: Bar Plot - Latest Statewise Unemployment\n",
    "latest_date = df['date'].max()\n",
    "latest_df = df[df['date'] == latest_date].sort_values(by='unemployment_rate', ascending=False)\n",
    "plt.figure(figsize=(12, 7))\n",
    "sns.barplot(x='unemployment_rate', y='state', data=latest_df, palette='magma', hue=None, legend=False)\n",
    "plt.title(f\"State-wise Unemployment Rate ({latest_date.date()})\")\n",
    "plt.xlabel(\"Unemployment Rate (%)\")\n",
    "plt.ylabel(\"State\")\n",
    "plt.tight_layout()\n",
    "plt.savefig(\"Task-3-Unemployment-Analysis/results/statewise_barplot_latest.png\")\n",
    "plt.close()\n",
    "print(\"Saved barplot for latest unemployment rates.\")\n",
    "\n",
    "# Step 7: Urban vs Rural Unemployment\n",
    "plt.figure(figsize=(8, 6))\n",
    "sns.boxplot(x='area', y='unemployment_rate', data=df, palette='Set2', hue=None, legend=False)\n",
    "plt.title(\"Unemployment Rate by Area (Urban vs Rural)\")\n",
    "plt.xlabel(\"Area\")\n",
    "plt.ylabel(\"Unemployment Rate (%)\")\n",
    "plt.tight_layout()\n",
    "plt.close()\n",
    "print(\" Saved Urban vs Rural unemployment boxplot.\")\n",
    "\n",
    "# Step 8: Labour Participation Trend\n",
    "plt.figure(figsize=(12, 6))\n",
    "labour_avg = df.groupby('date')['labour_participation_rate'].mean()\n",
    "sns.lineplot(x=labour_avg.index, y=labour_avg.values, color='green')\n",
    "plt.title(\"National Labour Participation Rate Over Time\")\n",
    "plt.xlabel(\"Date\")\n",
    "plt.ylabel(\"Labour Participation Rate (%)\")\n",
    "plt.tight_layout()\n",
    "\n",
    "plt.close()\n",
    "print(\" Saved labour participation rate trend.\")\n",
    "\n",
    "# Step 9: Top 10 Unemployment States (Latest Date)\n",
    "plt.figure(figsize=(10, 6))\n",
    "top10 = latest_df.head(10)\n",
    "sns.barplot(x='unemployment_rate', y='state', data=top10, palette='Reds', hue=None, legend=False)\n",
    "plt.title(\"Top 10 States by Unemployment Rate\")\n",
    "plt.xlabel(\"Unemployment Rate (%)\")\n",
    "plt.ylabel(\"State\")\n",
    "plt.tight_layout()\n",
    "\n",
    "plt.close()\n",
    "print(\"Saved Top 10 states barplot.\")\n",
    "\n",
    "print(\"\\nAll visualizations saved in: Task-3-Unemployment-Analysis/results/\")"
   ]
  },
  {
   "cell_type": "code",
   "execution_count": null,
   "id": "ee7e50cf-b0bb-462a-8703-021aeafbac4e",
   "metadata": {},
   "outputs": [],
   "source": []
  }
 ],
 "metadata": {
  "kernelspec": {
   "display_name": "Python [conda env:base] *",
   "language": "python",
   "name": "conda-base-py"
  },
  "language_info": {
   "codemirror_mode": {
    "name": "ipython",
    "version": 3
   },
   "file_extension": ".py",
   "mimetype": "text/x-python",
   "name": "python",
   "nbconvert_exporter": "python",
   "pygments_lexer": "ipython3",
   "version": "3.12.7"
  }
 },
 "nbformat": 4,
 "nbformat_minor": 5
}
